{
  "nbformat": 4,
  "nbformat_minor": 0,
  "metadata": {
    "colab": {
      "provenance": [],
      "gpuType": "A100"
    },
    "kernelspec": {
      "name": "python3",
      "display_name": "Python 3"
    },
    "language_info": {
      "name": "python"
    },
    "accelerator": "GPU"
  },
  "cells": [
    {
      "cell_type": "markdown",
      "source": [
        "# Cell 0: Install required packages\n"
      ],
      "metadata": {
        "id": "SjRRen0d_S9J"
      }
    },
    {
      "cell_type": "code",
      "source": [
        "!pip install numpy scipy gensim scikit-learn transformers biopython torch"
      ],
      "metadata": {
        "collapsed": true,
        "colab": {
          "base_uri": "https://localhost:8080/"
        },
        "id": "heqg9P3r_RD7",
        "outputId": "e626c321-b2e8-4702-de31-c6619ead5f3a"
      },
      "execution_count": 7,
      "outputs": [
        {
          "output_type": "stream",
          "name": "stdout",
          "text": [
            "Requirement already satisfied: numpy in /usr/local/lib/python3.10/dist-packages (1.26.4)\n",
            "Requirement already satisfied: scipy in /usr/local/lib/python3.10/dist-packages (1.13.1)\n",
            "Requirement already satisfied: gensim in /usr/local/lib/python3.10/dist-packages (4.3.3)\n",
            "Requirement already satisfied: scikit-learn in /usr/local/lib/python3.10/dist-packages (1.5.2)\n",
            "Requirement already satisfied: transformers in /usr/local/lib/python3.10/dist-packages (4.44.2)\n",
            "Requirement already satisfied: biopython in /usr/local/lib/python3.10/dist-packages (1.84)\n",
            "Requirement already satisfied: torch in /usr/local/lib/python3.10/dist-packages (2.4.1+cu121)\n",
            "Requirement already satisfied: smart-open>=1.8.1 in /usr/local/lib/python3.10/dist-packages (from gensim) (7.0.4)\n",
            "Requirement already satisfied: joblib>=1.2.0 in /usr/local/lib/python3.10/dist-packages (from scikit-learn) (1.4.2)\n",
            "Requirement already satisfied: threadpoolctl>=3.1.0 in /usr/local/lib/python3.10/dist-packages (from scikit-learn) (3.5.0)\n",
            "Requirement already satisfied: filelock in /usr/local/lib/python3.10/dist-packages (from transformers) (3.16.1)\n",
            "Requirement already satisfied: huggingface-hub<1.0,>=0.23.2 in /usr/local/lib/python3.10/dist-packages (from transformers) (0.24.7)\n",
            "Requirement already satisfied: packaging>=20.0 in /usr/local/lib/python3.10/dist-packages (from transformers) (24.1)\n",
            "Requirement already satisfied: pyyaml>=5.1 in /usr/local/lib/python3.10/dist-packages (from transformers) (6.0.2)\n",
            "Requirement already satisfied: regex!=2019.12.17 in /usr/local/lib/python3.10/dist-packages (from transformers) (2024.9.11)\n",
            "Requirement already satisfied: requests in /usr/local/lib/python3.10/dist-packages (from transformers) (2.32.3)\n",
            "Requirement already satisfied: safetensors>=0.4.1 in /usr/local/lib/python3.10/dist-packages (from transformers) (0.4.5)\n",
            "Requirement already satisfied: tokenizers<0.20,>=0.19 in /usr/local/lib/python3.10/dist-packages (from transformers) (0.19.1)\n",
            "Requirement already satisfied: tqdm>=4.27 in /usr/local/lib/python3.10/dist-packages (from transformers) (4.66.5)\n",
            "Requirement already satisfied: typing-extensions>=4.8.0 in /usr/local/lib/python3.10/dist-packages (from torch) (4.12.2)\n",
            "Requirement already satisfied: sympy in /usr/local/lib/python3.10/dist-packages (from torch) (1.13.3)\n",
            "Requirement already satisfied: networkx in /usr/local/lib/python3.10/dist-packages (from torch) (3.3)\n",
            "Requirement already satisfied: jinja2 in /usr/local/lib/python3.10/dist-packages (from torch) (3.1.4)\n",
            "Requirement already satisfied: fsspec in /usr/local/lib/python3.10/dist-packages (from torch) (2024.6.1)\n",
            "Requirement already satisfied: wrapt in /usr/local/lib/python3.10/dist-packages (from smart-open>=1.8.1->gensim) (1.16.0)\n",
            "Requirement already satisfied: MarkupSafe>=2.0 in /usr/local/lib/python3.10/dist-packages (from jinja2->torch) (2.1.5)\n",
            "Requirement already satisfied: charset-normalizer<4,>=2 in /usr/local/lib/python3.10/dist-packages (from requests->transformers) (3.3.2)\n",
            "Requirement already satisfied: idna<4,>=2.5 in /usr/local/lib/python3.10/dist-packages (from requests->transformers) (3.10)\n",
            "Requirement already satisfied: urllib3<3,>=1.21.1 in /usr/local/lib/python3.10/dist-packages (from requests->transformers) (2.2.3)\n",
            "Requirement already satisfied: certifi>=2017.4.17 in /usr/local/lib/python3.10/dist-packages (from requests->transformers) (2024.8.30)\n",
            "Requirement already satisfied: mpmath<1.4,>=1.1.0 in /usr/local/lib/python3.10/dist-packages (from sympy->torch) (1.3.0)\n"
          ]
        }
      ]
    },
    {
      "cell_type": "code",
      "source": [
        "import numpy as np\n",
        "from sklearn.neighbors import KDTree\n",
        "\n",
        "def generate_query_subseq_embeddings(query, window_size, step_size, embed_func):\n",
        "    subseqs = [query[i:i+window_size] for i in range(0, len(query)-window_size+1, step_size)]\n",
        "    return [embed_func(subseq) for subseq in subseqs]\n",
        "\n",
        "def find_seeds(query_embeddings, database_embeddings, threshold):\n",
        "    db_ids, db_embeds = zip(*database_embeddings.items())\n",
        "    db_embeds = np.array(db_embeds)\n",
        "    if db_embeds.ndim == 1:\n",
        "        db_embeds = db_embeds.reshape(-1, 1)\n",
        "    tree = KDTree(db_embeds)\n",
        "    seeds = []\n",
        "    for i, q_embed in enumerate(query_embeddings):\n",
        "        distances, indices = tree.query([q_embed], k=5)  # Get top 5 closest matches\n",
        "        for dist, idx in zip(distances[0], indices[0]):\n",
        "            if dist < threshold:\n",
        "                seeds.append((i, db_ids[idx], dist))\n",
        "    return seeds\n",
        "\n",
        "def extend_seed(query, db_seq, seed_pos, gap_open=-10, gap_extend=-1):\n",
        "    # Simple extension algorithm (can be improved)\n",
        "    left_score, left_query, left_db = 0, \"\", \"\"\n",
        "    right_score, right_query, right_db = 0, \"\", \"\"\n",
        "\n",
        "    # Extend left\n",
        "    i, j = seed_pos, 0\n",
        "    while i > 0 and j > 0:\n",
        "        if query[i-1] == db_seq[j-1]:\n",
        "            left_score += 1\n",
        "            left_query = query[i-1] + left_query\n",
        "            left_db = db_seq[j-1] + left_db\n",
        "            i -= 1\n",
        "            j -= 1\n",
        "        else:\n",
        "            break\n",
        "\n",
        "    # Extend right\n",
        "    i, j = seed_pos, 0\n",
        "    while i < len(query) and j < len(db_seq):\n",
        "        if query[i] == db_seq[j]:\n",
        "            right_score += 1\n",
        "            right_query += query[i]\n",
        "            right_db += db_seq[j]\n",
        "            i += 1\n",
        "            j += 1\n",
        "        else:\n",
        "            break\n",
        "\n",
        "    return left_query + right_query, left_db + right_db, left_score + right_score\n",
        "\n",
        "def evaluate_alignment(query_seq, db_seq, gap_open=-10, gap_extend=-1):\n",
        "    # Simple scoring function (can be improved)\n",
        "    score = sum(1 if q == d else -1 for q, d in zip(query_seq, db_seq))\n",
        "    gaps = query_seq.count('-') + db_seq.count('-')\n",
        "    score += gap_open * gaps + gap_extend * (len(query_seq) - len(db_seq.replace('-', '')))\n",
        "    return score\n",
        "\n",
        "def embedding_based_blast(query, database, database_embeddings, embed_func, window_size=3, step_size=1, threshold=0.1):\n",
        "    query_embeddings = generate_query_subseq_embeddings(query, window_size, step_size, embed_func)\n",
        "    seeds = find_seeds(query_embeddings, database_embeddings, threshold)\n",
        "\n",
        "    alignments = []\n",
        "    for seed in seeds:\n",
        "        query_pos, db_id, dist = seed\n",
        "        db_seq = database[db_id]\n",
        "        extended_query, extended_db, score = extend_seed(query, db_seq, query_pos)\n",
        "        alignment_score = evaluate_alignment(extended_query, extended_db)\n",
        "        alignments.append((db_id, extended_query, extended_db, alignment_score))\n",
        "\n",
        "    return sorted(alignments, key=lambda x: x[3], reverse=True)"
      ],
      "metadata": {
        "id": "OS3VifzHC_gW"
      },
      "execution_count": 14,
      "outputs": []
    },
    {
      "cell_type": "code",
      "source": [
        "import numpy as np\n",
        "from transformers import BertModel, BertTokenizer\n",
        "from gensim.models import Word2Vec\n",
        "from Bio import SeqIO\n",
        "\n",
        "def generate_protein_embeddings(sequence, model_type='ProtBERT'):\n",
        "    if model_type == 'ProtBERT':\n",
        "        tokenizer = BertTokenizer.from_pretrained(\"Rostlab/prot_bert\", do_lower_case=False)\n",
        "        model = BertModel.from_pretrained(\"Rostlab/prot_bert\")\n",
        "        inputs = tokenizer(sequence, return_tensors='pt')\n",
        "        outputs = model(**inputs)\n",
        "        embeddings = outputs.last_hidden_state.mean(dim=1).squeeze().detach().numpy()\n",
        "    elif model_type == 'ProtVec':\n",
        "        # Assuming ProtVec model is pre-trained and loaded\n",
        "        protvec_model = Word2Vec.load('path_to_protvec_model')\n",
        "        words = [sequence[i:i+3] for i in range(len(sequence)-2)]\n",
        "        embeddings = np.mean([protvec_model.wv[word] for word in words if word in protvec_model.wv], axis=0)\n",
        "    return embeddings\n",
        "\n",
        "def generate_nucleotide_embeddings(sequence, model_type='DNA2Vec'):\n",
        "    if model_type == 'DNA2Vec':\n",
        "        # Assuming DNA2Vec model is pre-trained and loaded\n",
        "        dna2vec_model = Word2Vec.load('path_to_dna2vec_model')\n",
        "        words = [sequence[i:i+11] for i in range(len(sequence)-10)]\n",
        "        embeddings = np.mean([dna2vec_model.wv[word] for word in words if word in dna2vec_model.wv], axis=0)\n",
        "    return embeddings\n",
        "\n",
        "def generate_database_embeddings(fasta_file, sequence_type='protein'):\n",
        "    embeddings = {}\n",
        "    for record in SeqIO.parse(fasta_file, \"fasta\"):\n",
        "        if sequence_type == 'protein':\n",
        "            embeddings[record.id] = generate_protein_embeddings(str(record.seq))\n",
        "        else:\n",
        "            embeddings[record.id] = generate_nucleotide_embeddings(str(record.seq))\n",
        "    return embeddings"
      ],
      "metadata": {
        "id": "kbrwGnPhC86-"
      },
      "execution_count": 11,
      "outputs": []
    },
    {
      "cell_type": "code",
      "source": [
        "import time\n",
        "from Bio import SeqIO\n",
        "from Bio.Blast import NCBIWWW, NCBIXML\n",
        "\n",
        "def run_ncbi_blast(query, database_file):\n",
        "    start_time = time.time()\n",
        "    result_handle = NCBIWWW.qblast(\"blastp\", \"nr\", query, entrez_query=f'\"{database_file}\"[PACC]')\n",
        "    blast_record = NCBIXML.read(result_handle)\n",
        "    end_time = time.time()\n",
        "\n",
        "    alignments = []\n",
        "    for alignment in blast_record.alignments:\n",
        "        for hsp in alignment.hsps:\n",
        "            alignments.append((alignment.title, hsp.query, hsp.sbjct, hsp.score))\n",
        "\n",
        "    return alignments, end_time - start_time\n",
        "\n",
        "def run_embedding_blast(query, database_file):\n",
        "    start_time = time.time()\n",
        "    database = {record.id: str(record.seq) for record in SeqIO.parse(database_file, \"fasta\")}\n",
        "    database_embeddings = generate_database_embeddings(database_file, \"protein\")\n",
        "    results = embedding_based_blast(query, database, database_embeddings, generate_protein_embeddings)\n",
        "    end_time = time.time()\n",
        "\n",
        "    return results, end_time - start_time\n",
        "\n",
        "def compare_results(ncbi_results, embedding_results):\n",
        "    ncbi_hits = set(result[0] for result in ncbi_results)\n",
        "    embedding_hits = set(result[0] for result in embedding_results)\n",
        "\n",
        "    common_hits = ncbi_hits.intersection(embedding_hits)\n",
        "    ncbi_only = ncbi_hits - embedding_hits\n",
        "    embedding_only = embedding_hits - ncbi_hits\n",
        "\n",
        "    print(f\"Common hits: {len(common_hits)}\")\n",
        "    print(f\"NCBI BLAST only: {len(ncbi_only)}\")\n",
        "    print(f\"Embedding BLAST only: {len(embedding_only)}\")\n",
        "\n",
        "    return len(common_hits) / len(ncbi_hits) if ncbi_hits else 0"
      ],
      "metadata": {
        "id": "TYlVClVQC1cm"
      },
      "execution_count": 12,
      "outputs": []
    },
    {
      "cell_type": "code",
      "source": [
        "import os\n",
        "\n",
        "def main():\n",
        "    # Load the query sequence from an environment variable or use a default\n",
        "    query = os.environ.get('QUERY_SEQUENCE', \"MVLSEGEWQLVLHVWAKVEADVAGHGQDILIRLFKSHPETLEKFDRFKHLKTEAEMKASEDLKKHGVTVLTALGAILKKKGHHEAELKPLAQSHATKHKIPIKYLEFISEAIIHVLHSRHPGNFGADAQGAMNKALELFRKDIAAKYKELGYQG\")\n",
        "\n",
        "    # Use the sample database provided in the Docker image\n",
        "    database_file = \"data/sample_database.fasta\"\n",
        "\n",
        "    print(\"Running Embedding-based BLAST...\")\n",
        "    embedding_results, embedding_time = run_embedding_blast(query, database_file)\n",
        "    print(f\"Embedding-based BLAST completed in {embedding_time:.2f} seconds\")\n",
        "\n",
        "    print(\"\\nRunning NCBI BLAST...\")\n",
        "    ncbi_results, ncbi_time = run_ncbi_blast(query, database_file)\n",
        "    print(f\"NCBI BLAST completed in {ncbi_time:.2f} seconds\")\n",
        "\n",
        "    print(\"\\nComparing results...\")\n",
        "    sensitivity = compare_results(ncbi_results, embedding_results)\n",
        "    print(f\"Sensitivity (proportion of NCBI BLAST hits found): {sensitivity:.2f}\")\n",
        "\n",
        "    print(f\"\\nSpeed comparison: Embedding-based BLAST was {ncbi_time / embedding_time:.2f}x faster\")\n",
        "\n",
        "if __name__ == \"__main__\":\n",
        "    main()"
      ],
      "metadata": {
        "colab": {
          "base_uri": "https://localhost:8080/"
        },
        "id": "BrTTknGhCzZ4",
        "outputId": "2cb87d9d-07c6-4261-b8ef-b65f0605d896"
      },
      "execution_count": 16,
      "outputs": [
        {
          "output_type": "stream",
          "name": "stdout",
          "text": [
            "Running Embedding-based BLAST...\n",
            "Embedding-based BLAST completed in 363.72 seconds\n",
            "\n",
            "Running NCBI BLAST...\n",
            "NCBI BLAST completed in 63.49 seconds\n",
            "\n",
            "Comparing results...\n",
            "Common hits: 0\n",
            "NCBI BLAST only: 0\n",
            "Embedding BLAST only: 5\n",
            "Sensitivity (proportion of NCBI BLAST hits found): 0.00\n",
            "\n",
            "Speed comparison: Embedding-based BLAST was 0.17x faster\n"
          ]
        }
      ]
    }
  ]
}